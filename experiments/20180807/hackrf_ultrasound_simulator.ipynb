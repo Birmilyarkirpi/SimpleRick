{
 "cells": [
  {
   "cell_type": "markdown",
   "metadata": {},
   "source": [
    "# HackRF Ultrasound Simulator\n",
    "\n",
    "by William Meng K9TTL  \n",
    "Aug 7, 2018\n",
    "\n",
    "In this notebook, I will be demonstrating how to use the HackRF One software-defined radio (SDR)\n",
    "as a signal source to emulate an ultrasound signal, as if it came from the analog frontend circuit of an ultrasound system.\n",
    "\n",
    "We will be using data collected by kelu124 in his un0rick project."
   ]
  },
  {
   "cell_type": "code",
   "execution_count": 1,
   "metadata": {},
   "outputs": [
    {
     "name": "stderr",
     "output_type": "stream",
     "text": [
      "--2018-08-07 23:01:52--  https://raw.githubusercontent.com/kelu124/un0rick/master/images/20180403/p_A-130us-0-VGA%400x22-spimode1-64msps.csv\n",
      "Resolving raw.githubusercontent.com... 151.101.0.133, 151.101.64.133, 151.101.128.133, ...\n",
      "Connecting to raw.githubusercontent.com|151.101.0.133|:443... connected.\n",
      "HTTP request sent, awaiting response... 200 OK\n",
      "Length: 416000 (406K) [text/plain]\n",
      "Saving to: ‘p_A-130us-0-VGA@0x22-spimode1-64msps.csv’\n",
      "\n",
      "     0K .......... .......... .......... .......... .......... 12% 1.53M 0s\n",
      "    50K .......... .......... .......... .......... .......... 24% 4.19M 0s\n",
      "   100K .......... .......... .......... .......... .......... 36% 6.20M 0s\n",
      "   150K .......... .......... .......... .......... .......... 49% 4.38M 0s\n",
      "   200K .......... .......... .......... .......... .......... 61% 3.49M 0s\n",
      "   250K .......... .......... .......... .......... .......... 73% 11.4M 0s\n",
      "   300K .......... .......... .......... .......... .......... 86% 7.38M 0s\n",
      "   350K .......... .......... .......... .......... .......... 98% 2.74M 0s\n",
      "   400K ......                                                100%  125K=0.1s\n",
      "\n",
      "2018-08-07 23:01:52 (3.77 MB/s) - ‘p_A-130us-0-VGA@0x22-spimode1-64msps.csv’ saved [416000/416000]\n",
      "\n"
     ]
    }
   ],
   "source": [
    "%%bash\n",
    "# Download CSV data from echomods\n",
    "wget -nc https://raw.githubusercontent.com/kelu124/un0rick/master/images/20180403/p_A-130us-0-VGA%400x22-spimode1-64msps.csv"
   ]
  },
  {
   "cell_type": "markdown",
   "metadata": {},
   "source": [
    "The signal looks like this:  \n",
    "![example data from un0rick](https://raw.githubusercontent.com/kelu124/un0rick/master/images/20180403/p_A-130us-0-VGA%400x22-spimode1-64msps.jpg)"
   ]
  },
  {
   "cell_type": "markdown",
   "metadata": {},
   "source": [
    "In the CSV file, each line contains a string representing a double-precision floating point number.\n",
    "These numbers represent a discrete time signal $s[n]$ that is sampled from a real-valued signal $s(t)$.\n",
    "\n",
    "Let's read the CSV file into a numpy array to represent $s[n]$:"
   ]
  },
  {
   "cell_type": "code",
   "execution_count": 39,
   "metadata": {},
   "outputs": [
    {
     "name": "stdout",
     "output_type": "stream",
     "text": [
      "s[n] at 64 Msps: [ 129.  195.  122. ...,  227.  120.  227.]\n",
      "Num of samples: 16640\n"
     ]
    }
   ],
   "source": [
    "import numpy as np\n",
    "csv_filename = 'p_A-130us-0-VGA@0x22-spimode1-64msps.csv'\n",
    "s_64M = np.loadtxt(csv_filename, dtype='float64')\n",
    "print(\"s[n] at 64 Msps: {}\".format(s_64M))\n",
    "print(\"Num of samples: {}\".format(s_64M.size))"
   ]
  },
  {
   "cell_type": "markdown",
   "metadata": {},
   "source": [
    "We need to **decimate** the 64 Msps discrete time signal down to a sample rate supported by the HackRF, such as 16 Msps. This is done in two steps:\n",
    "1. apply an anti alias filter (AAF) of half the sampling rate\n",
    "2. downsample the resulting signal\n",
    "\n",
    "We can use `scipy.signal.decimate()` to do this."
   ]
  },
  {
   "cell_type": "code",
   "execution_count": 31,
   "metadata": {},
   "outputs": [
    {
     "name": "stdout",
     "output_type": "stream",
     "text": [
      "s[n] at 16 Msps: [ 127.19059935  161.22724174  154.83211133 ...,  175.46755839  169.67093216\n",
      "  170.48521447]\n",
      "Num of samples: 4160\n"
     ]
    }
   ],
   "source": [
    "from scipy.signal import decimate\n",
    "s_16M = decimate(s_64M, 4, zero_phase=True)\n",
    "print(\"s[n] at 16 Msps: {}\".format(s_16M))\n",
    "print(\"Num of samples: {}\".format(s_16M.size))"
   ]
  },
  {
   "cell_type": "markdown",
   "metadata": {},
   "source": [
    "The HackRF uses IQ samples, so we need to build a complex-valued signal $s_A(t)$\n",
    "such that $Re\\{s_A(t)\\} = s(t)$.\n",
    "This can be done by computing the **Hilbert transform** of the real signal, $\\hat{s}(t)$.\n",
    "Then $s_A(t) = s(t) + j\\hat{s}(t)$.\n",
    "\n",
    "In discrete time, we have $s_A[n] = s[n] + j\\hat{s}[n]$.\n",
    "\n",
    "Given $s[n]$, `scipy.signal.hilbert()` will return $s_A[n]$. I find this slightly misleading - the name suggests that it returns $\\hat{s}(t)$, not $s_A[n]$. However, getting $\\hat{s}(t)$ is done simply by extracting the imaginary component of $s_A[n]$."
   ]
  },
  {
   "cell_type": "code",
   "execution_count": 38,
   "metadata": {},
   "outputs": [
    {
     "name": "stdout",
     "output_type": "stream",
     "text": [
      "s_A[n] at 16 Msps: [ 127.19059935+28.65803819j  161.22724174 +2.74492318j\n",
      "  154.83211133+25.17654614j ...,  175.46755839+26.92569323j\n",
      "  169.67093216+24.23159565j  170.48521447+47.94837371j]\n",
      "^s[n] at 16 Msps: [ 28.65803819   2.74492318  25.17654614 ...,  26.92569323  24.23159565\n",
      "  47.94837371]\n"
     ]
    }
   ],
   "source": [
    "from scipy.signal import hilbert\n",
    "s_A_16M = hilbert(s_16M)\n",
    "print(\"s_A[n] at 16 Msps: {}\".format(s_A_16M))\n",
    "s_hilbert_16M = np.imag(s_A_16M)\n",
    "print(\"^s[n] at 16 Msps: {}\".format(s_hilbert_16M))"
   ]
  },
  {
   "cell_type": "markdown",
   "metadata": {},
   "source": [
    "The IQ samples for the HackRF must be encoded as 8 bit signed integers.\n",
    "So I and Q will simply be the mapping of $s[n]$ and $\\hat{s}[n]$ onto the range of integers from -128 to 127.\n",
    "To maximize the available dynamic range, the scale factor will be chosen so that\n",
    "$ max\\{|s[n]|, |\\hat{s}[n]|\\} \\rightarrow 127 $."
   ]
  },
  {
   "cell_type": "code",
   "execution_count": 47,
   "metadata": {},
   "outputs": [
    {
     "name": "stdout",
     "output_type": "stream",
     "text": [
      "Max of s[n]: 176.33509368937732\n",
      "Max of ^s[n]: 91.8697275783004\n",
      "Scale factor: 0.7202196530641629\n"
     ]
    }
   ],
   "source": [
    "max_real = np.amax(np.abs(s_16M))\n",
    "max_imag = np.amax(np.abs(s_hilbert_16M))\n",
    "maximum = max(max_real, max_imag)\n",
    "scale_factor = 127 / maximum\n",
    "print(\"Max of s[n]: {}\".format(max_real))\n",
    "print(\"Max of ^s[n]: {}\".format(max_imag))\n",
    "print(\"Scale factor: {}\".format(scale_factor))"
   ]
  },
  {
   "cell_type": "code",
   "execution_count": 52,
   "metadata": {},
   "outputs": [
    {
     "name": "stdout",
     "output_type": "stream",
     "text": [
      "I: [ 91 116 111 ..., 126 122 122]\n",
      "Q: [20  1 18 ..., 19 17 34]\n"
     ]
    }
   ],
   "source": [
    "I = np.multiply(s_16M, scale_factor).astype('int8')\n",
    "Q = np.multiply(s_hilbert_16M, scale_factor).astype('int8')\n",
    "print(\"I: {}\".format(I))\n",
    "print(\"Q: {}\".format(Q))"
   ]
  },
  {
   "cell_type": "markdown",
   "metadata": {},
   "source": [
    "Now we can write our I and Q samples to a file for the `hackrf_transfer` program. "
   ]
  },
  {
   "cell_type": "code",
   "execution_count": 78,
   "metadata": {},
   "outputs": [
    {
     "name": "stdout",
     "output_type": "stream",
     "text": [
      "IQ: [ 91  20 116 ...,  17 122  34]\n",
      "0th element of IQ_raw: 91\n",
      "1st element of IQ_raw: 20\n",
      "Wrote 8320 bytes to file ultrasoundIQ.raw\n"
     ]
    }
   ],
   "source": [
    "# interleave I and Q\n",
    "IQ = np.hstack(zip(I, Q))\n",
    "print(\"IQ: {}\".format(IQ))\n",
    "# convert to bytearray\n",
    "IQ_raw = IQ.tobytes()\n",
    "print(\"0th element of IQ_raw: {}\".format(IQ_raw[0]))\n",
    "print(\"1st element of IQ_raw: {}\".format(IQ_raw[1]))\n",
    "# write bytes to file\n",
    "IQ_filename = \"ultrasoundIQ.raw\"\n",
    "IQ_file = open(IQ_filename, \"wb\")\n",
    "n = IQ_file.write(IQ_raw)\n",
    "print(\"Wrote {} bytes to file {}\".format(n, IQ_filename))"
   ]
  },
  {
   "cell_type": "markdown",
   "metadata": {},
   "source": [
    "Now let's have some fun!"
   ]
  },
  {
   "cell_type": "code",
   "execution_count": null,
   "metadata": {},
   "outputs": [],
   "source": []
  }
 ],
 "metadata": {
  "kernelspec": {
   "display_name": "Python 3",
   "language": "python",
   "name": "python3"
  },
  "language_info": {
   "codemirror_mode": {
    "name": "ipython",
    "version": 3
   },
   "file_extension": ".py",
   "mimetype": "text/x-python",
   "name": "python",
   "nbconvert_exporter": "python",
   "pygments_lexer": "ipython3",
   "version": "3.6.5"
  }
 },
 "nbformat": 4,
 "nbformat_minor": 2
}
